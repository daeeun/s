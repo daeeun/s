{
 "cells": [
  {
   "cell_type": "markdown",
   "metadata": {
    "colab_type": "text",
    "id": "vO5YpleTGsc0"
   },
   "source": [
    "문자 빈도수의 시각화\n",
    "## Data Import (.txt)"
   ]
  },
  {
   "cell_type": "markdown",
   "metadata": {
    "colab_type": "text",
    "id": "_N9gbfdVNpXy"
   },
   "source": [
    "영어 텍스트 문서를 불러옵니다. 다양한 .txt파일로 테스트해보세요. 텍스트 문서를 변경하려면 아래의 path에 원하는 파일 경로를 지정해주면 됩니다. Project Gutenberg의 open source ebook text file을 예시로 사용하기로 합니다."
   ]
  },
  {
   "cell_type": "code",
   "execution_count": 14,
   "metadata": {
    "colab": {
     "base_uri": "https://localhost:8080/",
     "height": 53
    },
    "colab_type": "code",
    "id": "TRoOBWC7Gpjo",
    "outputId": "fe89ddbd-e70e-418a-e801-3814f11beff5"
   },
   "outputs": [
    {
     "name": "stdout",
     "output_type": "stream",
     "text": [
      "The Project Gutenberg EBook of Metabolic Adaptation to Climate and\n",
      "\n"
     ]
    }
   ],
   "source": [
    "path = './Raccoon-short.txt' #길이를 줄이려고 챕터1에서 잘랐습니다. 전체 텍스트는 Racoon-full.txt 입니다.\n",
    "f = open(path,'r')\n",
    "print(f.readline()) #preview - 읽은 파일의 첫 줄만 표시 \n",
    "Text = f.read()\n",
    "f.close()\n",
    "#print(Text) #전체 텍\n",
    "#Text=\"abCDCD~! b ab\"  # 큰 파일에 대해 적용하기 전에 주석을 풀고 small text sample부터 시작해보길 권장합니다."
   ]
  },
  {
   "cell_type": "markdown",
   "metadata": {
    "colab_type": "text",
    "id": "fsG9pgFLNWRy"
   },
   "source": [
    "McKay 교재에서와 같이 알파벳 A to Z(대소문자 구분 없음)와 blank(' ')만 카운트하도록 다음과 같은 처리를 해줍니다.\n",
    "\n",
    "\n",
    "* re.sub( 찾을 문자, 바꿀 문자, text data) \n",
    "* 변수명.lower()\n",
    "\n",
    "특수문자도 포함시켜 사용된 모든 문자의 빈도를 카운트하려면 re.sub()를 생략하면 됩니다.\n",
    "\n"
   ]
  },
  {
   "cell_type": "code",
   "execution_count": 2,
   "metadata": {
    "colab": {
     "base_uri": "https://localhost:8080/",
     "height": 35
    },
    "colab_type": "code",
    "id": "ftltYmAqNOlz",
    "outputId": "adf77960-420a-4d1d-ecf6-8943d0fee5e1"
   },
   "outputs": [
    {
     "name": "stdout",
     "output_type": "stream",
     "text": [
      "FROM 123456790abcd efABCDEF!@#$%^&*()_+<>?,./ TO abcdefABCDEF\n"
     ]
    }
   ],
   "source": [
    "import re\n",
    "# re.sub( , , )의 용례\n",
    "raw =  \"123456790abcd efABCDEF!@#$%^&*()_+<>?,./\"\n",
    "print( \"FROM \"+ raw +\" TO \"+ re.sub(r'[^a-zA-Z]', \"\", raw)) # raw string이 re.sub()로 인해 어떻게 바뀌는지 확인해보세요."
   ]
  },
  {
   "cell_type": "code",
   "execution_count": 3,
   "metadata": {
    "colab": {
     "base_uri": "https://localhost:8080/",
     "height": 55
    },
    "colab_type": "code",
    "id": "-jw7jLKYnLV_",
    "outputId": "09711c99-19a9-48e9-f42a-125f9c47eeec"
   },
   "outputs": [
    {
     "name": "stdout",
     "output_type": "stream",
     "text": [
      "distribution of the raccoon procyon lotor and other procyonidae by john n mugaas and john seidensticker and kathleen p mahlkejohnsonthis ebook is for the use of anyone anywhere at no cost and withalmost no restrictions whatsoever  you may copy it give it away orreuse it under the terms of the project gutenberg license includedwith this ebook or online at wwwgutenbergorgtitle metabolic adaptation to climate and distribution of the raccoon procyon lotor and other procyonidaeauthor john n mugaas        john seidensticker        kathleen p mahlkejohnsonrelease date may   ebook language english start of this project gutenberg ebook the raccoon procyon lotor produced by colin bell tom cosmas joseph cooper and theonline distributed proofreading team at httpwwwpgdpnet  smithsonian contributions to zoology  number   metabolic adaptation to climate  and distribution of the raccoon  procyon lotor and other procyonidae  john n mugaas john seidensticker  and kathleen p mahlkejohnson  smithsonian institution logo  smithsonian institution press  washington dc  abstractmugaas j n j seidensticker and k mahlkejohnson metabolicadaptation to climate and distribution of the raccoon procyon lotorand other procyonidae smithsonian contributions to zoology number  pages  figures  tables although the familyprocyonidae is largely a neotropical group the north americanraccoon procyon lotor is more versatile in its use of climate andit is found in nearly every habitat from panama to n in canada wehypothesized that most contemporary procyonids have remained in tropicand subtropic climates because they have retained the metaboliccharacteristics of their warmadapted ancestors whereas procyonlotor evolved a different set of adaptations that have enabled it togeneralize its use of habitats and climates to test this hypothesiswe compared procyon lotor with several other procyonidsbassariscus astutus nasua nasua nasua narica procyoncancrivorus and potos flavus with respect to  basal metabolicrate hb  minimum wet thermal conductance cmw diversity of diet dd  intrinsic rate of natural increasermax and where possible  capacity for evaporative coolingec we measured basal and thermoregulatory metabolismevaporative water loss and body temperature of both sexes of procyonlotor from north central virginia in summer and winter metabolicdata for other procyonids were from literature as were dietary andreproductive data for all speciesprocyon lotor differed from other procyonids in all fivevariables  procyon lotors mass specific hb ml ogh was  to  times greater than values forother procyonids  because of its annual molt procyon lotorscmw was about  higher in summer than winter  and ml oghc respectively the ratio of measured topredicted cmw for procyon lotor in winter  was similar tovalues calculated for potos flavus  and procyon cancrivorus values for other procyonids were higher than this but lessthan the value for procyon lotor  in summer on a massspecific basis bassariscus astutus had the lowest cmw with aratio of   procyon lotor utilized three times as many foodcategories as procyon cancrivorus nasua nasua and bassariscusastutus about two times as many as nasua narica and nine times asmany as potos flavus  intrinsic rate of natural increasecorrelated positively with hb procyon lotor had the highestrmax  of expected and potos flavus the lowest  ofexpected the other procyonids examined also had low hb buttheir rmaxs were higher than predicted  of expectedearly age of first female reproduction fairly large litter size longlife span highquality diet and in one case female socialorganization all compensated for low hb and elevated rmax although data on the capacity for evaporative cooling wereincomplete this variable appeared to be best developed in procyonlotor and bassariscus astutus the two species that have been mostsuccessful at including temperate climates in their distributionsthese five variables are functionally interrelated and havecoevolved in each species to form a unique adaptive unit thatregulates body temperature and energy balance throughout each annualcycle the first four variables were converted into normalizeddimensionless numbers which were used to derive a composite scorethat represented each species adaptive unit procyon lotor had thehighest composite score  and potos flavus the lowest scores for the other procyonids were intermediate to these extremes there was a positive correlation between the number ofclimates a species occupies and the magnitude of its composite scorelinear regression of this relationship indicated that  of thevariance in climatic distribution was attributed to the compositescores differences in metabolic adaptation therefore have played arole in delimiting climatic distribution of these speciesit was clear that procyon lotor differed from the other procyonidswith respect to thermoregulatory ability diet and reproductivepotential these differences have enabled it to become a highlysuccessful climate generalist and its evolution of an hb thatis higher than the procyonid norm appears to be the cornerstone of itssuccessofficial publication date is handstamped in a limited number ofinitial copies and is recorded in the institutions annual reportsmithsonian year series cover design the coral montastreacavernosa linnaeus  library of congress cataloginginpublication data  mugaas john n  metabolic adaptation to climate and distribution of the raccoon  procyon lotor and other procyonidae  john n mugaas john  seidensticker and kathleen p mahlkejohnson  p cmsmithsonian contributions to zoology no   includes bibliographical references p         raccoonsmetabolismclimatic factors     procyonidaemetabolismclimatic factors     raccoonsgeographical distribution     procyonidaegeographical distribution    i seidensticker john   ii mahlkejohnson kathleen  iii title   iv series  qls no  qlc  sdc  permanent paper symbol the paper used in this publication meets theminimum requirements of the american national standard for permanenceof paper for printed library materials zcontents                                                               page  introduction                                                          defining the problem                                                  procyonid origins                                                   typical procyonids                                                  the atypical procyonid                                              the hypothesis                                                      hypothesis testing                                                adaptive significance of the variables                                basal metabolic rate and intrinsic rate of natural increase         minimum thermal conductance                                         capacity for evaporative cooling                                    diet                                                              experimental design and summary                                     acknowledgments                                                   materials and methods                                                 livetrapping                                                       metabolic studies                                                     basal and thermoregulatory metabolism                               evaporative water loss                                              body temperature                                                  calibrations                                                          calorimeter                                                         body temperature transmitters                                     statistical methods                                                 estimating intrinsic rate of natural increase                       comparison of adaptive units                                      results                                                               body mass                                                           basal metabolic rate                                                minimum thermal conductance                                         evaporative water loss                                             thermoregulation at low temperatures                                 body temperature                                                   summer                                                             winter                                                           thermoregulation at high temperatures                                body temperature                                                   summer                                                             winter                                                           daily cycle of body temperature                                  discussion                                                           basal metabolic rate                                                 background                                                         captive versus wild raccoons                                       seasonal metabolism of raccoons                                    comparison of procyon lotor with other procyonids                influence of diet on basal metabolism                                background                                                         food habits of procyonids                                          food habits and basal metabolism                                   summary                                                          basal metabolism and intrinsic rate of natural increase              background                                                         procyon lotor                                                    bassariscus astutus                                              nasua narica                                                     nasua nasua                                                      procyon cancrivorus                                              potos flavus                                                     summary                                                          basal metabolism and climatic distribution                           procyon lotor                                                    other procyonids                                               minimum thermal conductance                                          background                                                         effect of molt on thermal conductance                              comparison of thermal conductances                                   procyon lotor versus tropical procyonids                         bassariscus astutus                                          thermoregulation and use of stored fat at low temperatures           background                                                           thermoregulation                                                   stored fat                                                       thermal model of the raccoon and its den                           metabolic advantage of the den                                   thermoregulation at high temperatures                                background                                                         comparison of procyonid responses to heat stress                     potos flavus                                                     nasua nasua and nasua narica                                     bassariscus astutus                                              procyon lotor                                                    procyon cancrivorus                                              summary                                                        composite scores of adaptive units and geographic distribution     evolution of metabolic adaptations                                   evolution of low basal metabolic rate                              evolution of high basal metabolic rate                           summary                                                          appendix list of symbols                                          literature cited                                                   metabolic adaptation to climate  and distribution of the raccoon  procyon lotor and other procyonidae  john n mugaas john seidensticker  and kathleen p mahlkejohnson  john n mugaas department of physiology division of functional  biology west virginia school of osteopathic medicine lewisburg  west virginia  john seidensticker and kathleen p  mahlkejohnson national zoological park smithsonian institution  washington dc introductiondefining the problemprocyonid originsthe major carnivore radiations took place about  million yearsbefore present mybp in the late eocene and early oligocene ewer wayne et al  between  and  mybp a progenitorsplit into the ursid and procyonid lineages which evolved intopresentday bears pandas and raccoons wayne et al  thetaxonomic relatedness of pandas to bears and raccoons has been testedextensively and a number of authors have summarized current thinkingon the problem martin  wayne et al  wozencraft ab decker and wozencraft  davis  and othersleone and wiens  todd and pressman  sarich  obrienet al  place the giant panda ailuropoda melanoleuca withthe ursids the taxonomic status of the red panda ailurus fulgensappears to be less certain some current investigations align the redpanda with bears segall  todd and pressman  hunt ginsburg  wozencraft  a whereas others placethem intermediate to procyonids and bears wurster and benirschke sarich  obrien et al  or in close relationship tothe giant panda tagle et al the procyonid radiation took place in north america and produced formsthat were mostly arboreal and omnivorous eisenberg  martin the center of this diversification occurred in middle americabaskin  webb b during the miocene darlington webb b fossil procyonids from the late miocene are representedin florida california texas nebraska kansas and south dakotabaskin  martin  and include such genera as bassariscusarctonasua cyonasua paranasua nasua and procyon baskin webb b during the miocene procyonids underwent a modestradiation within tropical and subtropical climates of north americascentral and middle latitudes cyonasua which has close affinitiesto arctonasua baskin  appears in tropical south america inthe late miocene and immigrated there either by rafting across thebolivar trough or by islandhopping through the antilles archipelagoesmarshall et al  marshall  thus procyonids were foundon both continents prior to formation of the panamanian land bridgedarlington   marshall et al  marshall origins of bassaricyon and potos are obscure but probably occurredin tropical rainforests of middle america baskin  webb ba subsequent pleistocene dispersal carried several modern generatable  across the panamanian land bridge into south america webbb bassariscus and bassaricyon represent the most primitivegenera in procyoninae and potosinae subfamilies respectively table wozencraft a decker and wozencraft in the early tertiary midlatitudes of north america were much warmerthan they are now but not fully tropical and temperate deciduousforests associated with strongly seasonal climates occurred only inthe far north barghoorn  colbert  darlington  major climatic deteriorations with their attendant cooling ofnorthern continents occurred during the eooligocene transition inthe middle miocene at the end of the miocene and at about  mybplate pliocene this last deterioration corresponds with closure ofthe panamanian isthmus berggren  webb a climaticdeterioration went on at an accelerating rate during the latetertiary with glacial conditions developing at the poles by themidpliocene barghoorn  therefore throughout the tertiary ascontinents cooled northern climate zones moved toward the tropicsbarghoorn  colbert  darlington    webb a table classification of recent procyonidae after wozencraft   a and decker and wozencraft  information in   parenthesis indicates general geographic distribution modified from   kortlucke and ramirezpulido  and poglayenneuwall    sa  south america ca  central america m  mexico   us  united states c  canada lower case letters preceding   geographic areas signify north n south s and west w  order carnivora bowdich     suborder caniformia kretzoi       family procyonidae gray         subfamily potosinae trouessart           genus potos e geoffroy and g cuvier             p flavus sa ca m          genus bassaricyon allen             b allenia sa            b beddardia sa            b gabbiia nsa ca            b lasiusa ca            b paulia ca        subfamily procyoninae gray           genus bassariscus coues             b astutus m wus            b sumichrasti ca m          genus nasua storr             n naricab nsa ca m swus            n nasuab sa sca          genus nasuella hollister             n olivacea sa          genus procyon storr             p cancrivorus sa sca            p gloverallenic barbados            p insularisc maria madre is maria magdalene is            p lotorc ca m us sc            p maynardic bahamas new providence is            p minorc guadeloupe is            p pygmaeusc m quintana roo cozumel is  a the several named forms of bassaricyon are a single      species bassaricyon gabbii wozencraft a  b these are considered conspecific in some current      taxonomies kortlucke and ramirezpulido  however      the scheme followed here maintains them as separate species      decker   c several named forms of procyon are a single species      procyon lotor wozencraft aduring the late miocene late pliocene and pleistocene the beringland bridge between north america and asia formed periodicallyoffering an avenue for dispersal between northern continentsdarlington  webb a however by the late tertiarynorthern continents had cooled to the extent that climate with itsattendant sharply defined vegetative zones became the major factorlimiting dispersal by this route darlington  webb athose holarctic mammals that did cross the bering land bridge in thelate tertiary were coldadapted species associated with relativelycool but not alpine climates darlington  ewer among carnivores this included some canids ursids mustelids andfelids darlington   webb a procyonidshowever did not cross the bering land bridge into asia and ewer ascribes this to their being an essentially tropicalgroup miocene radiation of procyonids occurred at a time when two ofthe four major climatic deteriorations middle and late miocene weretaking place webb a b these deteriorations had the effectof cooling the middle latitudes to the extent that temperate forestforms began to appear in midlatitude floras along with a rapidinflux of herbaceous plants barghoorn  the procyonid radiationdid not penetrate beyond these climatically changing middle latitudeswhich implies that these animals were warmadapted and weretherefore physiologically excluded from reaching the bering landbridge today three of the six genera and over half of the  speciesthat comprise procyonidae table  wozencraft b remain confinedto tropical regions of north and south america hall and kelson poglayenneuwall  kortlucke and ramirezpulido nowak and paradiso typical procyonidsmcnab a contends that basal metabolism is a highly plasticcharacter in evolution and he has amply shown that ecologicallyuniform species are more apt to share common metabolic rates thantaxonomically allied species from drastically different environmentsmcnab a a b a procyonids represent ataxonomically allied group that shared a common ecological situationfor millions of years consequently members of this family might beexpected to show some uniformity in their hb basal andthermoregulatory metabolism of several procyonids have been measuredkinkajou potos flavus mller and kulzer  mcnab amller and rost  coatis nasua nasua chevillardhugot etal  mugaas et al in prep and nasua narica scholander etal c mugaas et al in prep ringtail bassariscus astutuschevalier  and crabeating raccoon procyon cancrivorusscholander et al c in general these species have hbsthat are  of the values predicted for them by the kleiber equation lower than predicted hb is viewed as anenergysaving adaptation for procyonids living in relatively stabletropical climates mller and kulzer  chevillardhugot et al mller and rost  this implies that lower than predictedhb is a general procyonid condition and that it represents acharacteristic that evolved in response to the familys longassociation with tropical and subtropical forest environmentsthe atypical procyonidalthough most procyonids are found in only tropical to subtropicalclimates the north american raccoon procyon lotor figure  hasa much broader distribution that extends from tropical panama n tosouthern canada in alberta canada its range reaches the edge of thehudsonian life zone at n for distribution maps see hall andkelson  and poglayenneuwall  range extensionsand an increase in numbers have been noted in canada and in parts ofthe united states since the th century lotze and anderson kaufmann  nowak and paradiso  thus procyonlotor is more complex ecologically than other procyonidsparticularly when one takes into account its highly generalized foodhabits hamilton  stuewer  stains  greenwood and the wide range of habitat types forest prairie desertmountain coastal marsh freshwater marsh and climates tropical tonorth temperate in which it is successful whitney and underwood hall and kelson  lotze and anderson kaufmann  on this basis it is clear that procyon lotor hasdeviated from the typical procyonid portrait and has become theconsummate generalist of the procyonidae  illustration figure north american raccoon procyon lotorthe hypothesisour general hypothesis was that whereas most contemporary procyonidshave retained the metabolic characteristics of their warmadaptedancestors procyon lotor possesses a different set of adaptationswhich either evolved as characteristics unique to this species or wereacquired from its ancestral stock in either case its uniqueadaptations have given procyon lotor the physiological flexibilityto generalize its use of habitats and climates and expand itsgeographic distribution to a much greater extent than otherprocyonidshypothesis testingwe tested our hypothesis by comparing procyon lotor with severalother procyonids bassariscus astutus nasua nasua nasuanarica procyon cancrivorus and potos flavus on the basis oftheir  basal metabolic rate hb  minimum wet thermalconductance cmw  diversity of diet dd  intrinsicrate of natural increase rmax and when data were available capacity for evaporative cooling ec in a genetic sense each oneof these variables is a complex adaptive characteristic expression ofwhich is determined by the interaction of several genes prosser experience has shown that a given species will expresseach one of these variables in a specific manner that is relevant toits mass physiology behavior and environmental circumstance thusdifferent expressions of these variables may represent specificclimatic adaptations prosser  that have been selectedfor byevolutionary process because these variables are interrelated withrespect to regulation of body temperature and energy balance theyhave coevolved in each species to form an adaptive unit for eachspecies measured and calculated values for the first four variableswere converted into dimensionless numbers and used to derive acomposite score that represented its adaptive unit climaticdistributions of these species were then compared relative to theircomposite scoresadaptive significance of the variablesbasal metabolic rate and intrinsic rate of natural increasebasal metabolic rate represents the minimum energy required by ananimal to maintain basic homeostasis lusk  kleiber  benedict  brody  robbins  formammals hb appears to be determined by complex interactionsbetween their body size kleiber   benedict brody  hemmingsen  mcnab b calder the climate in which they live scholander et al c mcnaband morrison  hulbert and dawson  shkolnik andschmidtnielsen  mcnab a vogel  their food habitsmcnab a b a a a a b a and their circadian period aschoff and pohl  prothero some species have higher massspecific hb than others and thisvariation appears to be tied to ecological circumstances rather thantaxonomic affinities mcnab a  basal metabolic rate isimportant ecologically because it serves as a measure of a speciesminimum obligatory energy requirement and under many circumstancesit represents the largest energy demand associated with a daily energybudget king  mcnab a mugaas and king recently it also has been implicated as a permissive factor withrespect to rmax of mammals hennemann  lillegraven et al nicoll and thompson  thompson  via its direct effecton their rates of development and fecundity mcnab a ab hennemann  schmitz and lavigne  glazier ab the implication of this latter point is that those specieswith higher hbs also have faster rates of development andgreater fecundity and hence enjoy the competitive advantage of ahigher rmax basal metabolism is therefore a highly plasticcharacter in the course of evolution mcnab a that has aprofound influence on each species life historyminimum thermal conductancewholebody resistance to passive heat transfer is equal to tissueresistance plus coat resistance within limits these resistances canbe altered tissue resistance can be varied by changes in blood flowwhereas coat resistance can be changed by piloerection molt andbehavior when wholebody resistance is maximized maximum tissue andcoat resistances passive heat transfer is minimized the inverse ofresistance is conductance therefore maximum wholebody resistance isthe inverse of minimum thermal conductance cm minimum thermalconductance is readily derived from metabolic chamber data and it iscommonly used to describe an animals capacity to minimize passiveheat transfer minimum thermal conductance interacts with hb andbody mass to set the maximum temperature differential a mammal canmaintain without increasing its basal level of heat production thelow temperature in this differential is the lower critical temperaturetlcmassspecific cm for mammals is negatively correlated with bodymass mcnab and morrison  herreid and kessel  mcnab b bradley and deavers  aschoff  and for any givenmass its magnitude is  higher during the active rather than theinactive phase of the daily cycle aschoff  however somemammals have cms that are higher or lower than would be predictedfor them on the basis of body mass and circadian phase seasonalvariation in cm higher values during summer than winter has beenreported for many northern mammals that experience large annualvariations in air temperature scholander et al a irving etal  hart   irving  some tropical mammalswith very thin fur coats and others with nearly hairless bodies havehigh cms mcnab a as do burrowing mammals mcnab b a and the kit fox vulpes macrotis golightly andohmart  some small mammals with low basal metabolic rates tendto have lower than predicted cms small marsupials mcnab aheteromyid rodents mcnab a several ant eaters mcnab athe arctic hare lepus arcticus wang et al  the ringtailbassariscus astutus chevalier  and the fennec fennecuszerda nollbanholzer  thus in spite of its mass dependencecm also has been modified during the course of evolution byselective factors in the environment and by the animals own metaboliccharacteristicscapacity for evaporative coolinglatent heat loss occurs as a result of evaporation from therespiratory tract and through the skin and except under conditions ofheat stress it is a liability in thermal and osmotic homeostasiscalder and king  ec defined as the ratio ofevaporative heat lost to metabolic heat produced can be used toquantify thermoregulatory effectiveness of evaporative cooling and tomake comparisons of heat tolerance between species thermoregulatoryeffectiveness of latent heat loss is not just a function of the rateof evaporative water loss but also of the rate of metabolic heatproduction lasiewski and seymour  for example a low metabolicrate minimizes endogenous heat load and thus conserves water whereasthe opposite is true of high metabolic rates lasiewski and seymour some mammals that live in arid regions have evolved lowmetabolic rates and thus capitalize on this relationship to reducetheir thermoregulatory water requirement mcnab and morrison mcnab  macmillen and lee  nollbanholzer  what isevident therefore is that an animals capacity for increasing latentheat loss must evolve together with its hb and cm in responseto specific environmental demandsdietmcnab a a  demonstrated that for mammals departuresof hb from the kleiber  norm are highly correlatedwith diet and independent of phylogenetic relationships mcnabsanalysis indicates that for mammals that feed on invertebrates thosespecies with body mass less than  g have hbs that are equalto or greater than values predicted by the kleiber equation whereasthose with body mass greater than  g have metabolic rates that arelower than predicted grazers vertebrate eaters nut eaters andterrestrial frugivores also have hbs that are equal to orgreater than predicted whereas insectivorous bats arborealfolivores arboreal frugivores and terrestrial folivores all haverates that are lower than predicted mcnab a found animals withmixed diets harder to categorize but in general he predicted thattheir hbs would be related to  a food item that isconstantly available throughout the year  a food item that is mostavailable during the worst conditions of the year or  a mix offoods available during the worst time of the year although thesecorrelations do not establish cause and effect between food habits andhb mcnabs analysis does make it clear that the relationshipbetween these variables has very real consequences for an animalsphysiology ecology and evolutionexperimental design and summaryin this investigation we measured basal and thermoregulatorymetabolism evaporative water loss and body temperature of raccoonsfrom north central virginia measurements were conducted on both sexesin summer and winter to determine how season and sex influenced thesevariables we then compared the data for this widely distributedgeneralist with data from literature for its ecologically morerestricted relatives dietary data for all species were taken fromliterature as were reproductive data for calculation of rmaxour analysis demonstrated clear differences between procyon lotorand other procyonids with respect to hb cmw dd andrmax the composite score calculated from these variables forprocyon lotor was much higher than those derived for other speciesand there was a positive correlation between the number of climates aspecies occupies and the magnitude of its composite score data onevaporative water loss although not complete for all speciessuggested that tropical and subtropical procyonids have less capacityfor evaporative cooling than procyon lotor or bassariscus astutusit was clear therefore that with respect to its thermal physiologyprocyon lotor differed markedly from other procyonids and wecontend that these differences have allowed this species to become ahighly successful climate generalist and to expand its distributioninto many different habitats and climates our analysis also suggestedthat the cornerstone of procyon lotors success as a climategeneralist is its hb which is higher than the procyonid normacknowledgmentsthe authors would like to thank john eisenberg and devra kleiman fortheir support and encouragement throughout the study thisinvestigation was supported by research grants from the west virginiaschool of osteopathic medicine wvsom and friends of the nationalzoo fonz logistic support was provided by the national zoologicalparks conservation and research center crc and the departments ofmammalogy and zoological research our ability to conductphysiological research at crc was made possible by the thoughtfulsupport and encouragement provided by chris wemmer his excellentstaff at crc especially jack williams junior allison and redmcdaniel were very helpful in providing hospitality and logisticalsupport to the senior author and his family during their variousvisits to the center the assistance of several people at the nationalzoo also is gratefully acknowledged mitch bush and lyndsay phillipsnot only provided veterinary support throughout the investigationbut also performed surgical procedures required to implanttemperaturesensitive radio transmitters in several raccoons olavoftedal made his laboratory available to us at various times andloaned us equipment to use at crc miles roberts and his staffprovided care for our captive raccoons in the department of zoologicalresearch during various parts of the investigation greg sanders andken halama supported by fonz assistantships cared for our captiveraccoons at crc provided assistance in the laboratory wheneverneeded and were an invaluable source of aid their friendship andhelp is gratefully acknowledged ellen broudy and andy meyersupported by wvsom and a student work study grant respectivelyprovided assistance in the laboratory david brown john eisenbergmary etta hight brian mcnab steve thompson and w chris wozencraftcritically reviewed various phases of the manuscript and provided manyhelpful suggestions we deeply appreciate the work of jean bmcconville whose beneficial editorial suggestions helped us improveseveral early versions of the manuscript we also gratefullyacknowledge diane m tyler our editor at the smithsonian institutionpress whose expertise helped us mold the manuscript into its finalform jill mellon and sriyanie miththalapa supported by fonztraineeships assisted in measuring the daily cycle of bodytemperature in raccoons the virginia commission of game and inlandfisheries gave us permission to use wildcaught raccoons in thisproject materials and methods  this is the beginning of chapter  the rest of this text has been cut off to keep the file size small \n"
     ]
    }
   ],
   "source": [
    "# {a to z, A to Z, ' '(blank), ... }를 제외한 문자를 \"\"(삭제)로 바꾸어주도록 임의의 text file에 대해 테스트해보면 원하는 부분만 출력됩니다.\n",
    "Text = re.sub(r'[^a-zA-Z ]', \"\", Text)  #[^a-zA-Z ] :마지막에 blank도 추가\n",
    "text=Text.lower() # To lower case\n",
    "print(text) #"
   ]
  },
  {
   "cell_type": "markdown",
   "metadata": {
    "colab_type": "text",
    "id": "59IBa2DSBGI6"
   },
   "source": [
    "## Letter frequency of an arbitrary text file\n",
    "\n",
    "### Basic syntax\n",
    "\n",
    "collections의 Counter 함수는 문자의 출현 빈도를 count합니다."
   ]
  },
  {
   "cell_type": "code",
   "execution_count": 4,
   "metadata": {
    "colab": {
     "base_uri": "https://localhost:8080/",
     "height": 73
    },
    "colab_type": "code",
    "id": "kPXBXCxaBGIg",
    "outputId": "c2a911ef-510a-4ac0-8246-06588da0445d"
   },
   "outputs": [
    {
     "name": "stdout",
     "output_type": "stream",
     "text": [
      "Initial: Counter()\n",
      "Sequence: Counter({' ': 8721, 'e': 2793, 'a': 2471, 't': 2132, 'o': 2009, 'i': 1902, 'r': 1777, 'n': 1755, 's': 1715, 'c': 1142, 'l': 1064, 'd': 954, 'h': 954, 'm': 787, 'p': 636, 'u': 635, 'b': 509, 'f': 459, 'y': 399, 'g': 397, 'v': 313, 'w': 280, 'k': 106, 'x': 61, 'z': 59, 'j': 41, 'q': 23})\n"
     ]
    }
   ],
   "source": [
    "import collections\n",
    "\n",
    "c = collections.Counter()\n",
    "print('Initial:', c)\n",
    "\n",
    "c.update(text)\n",
    "print('Sequence:', c)\n",
    "\n",
    "#c.update({'a':1, 'd':5})\n",
    "#print('Dict    :', c)"
   ]
  },
  {
   "cell_type": "markdown",
   "metadata": {
    "colab_type": "text",
    "id": "_ZFzg-VZpcjJ"
   },
   "source": [
    "이제 문자의 각각의 출현 횟수를 총합으로 나누어 주어 알파벳 출현 빈도를 계산해 줍니다. "
   ]
  },
  {
   "cell_type": "code",
   "execution_count": 5,
   "metadata": {
    "colab": {
     "base_uri": "https://localhost:8080/",
     "height": 503
    },
    "colab_type": "code",
    "id": "FOCCD2TAoe3B",
    "outputId": "d4f67704-66cb-45d9-9044-d604a91c31ef"
   },
   "outputs": [
    {
     "data": {
      "text/plain": [
       "[['a', 0.0724760955006746],\n",
       " ['b', 0.014929313075614478],\n",
       " ['c', 0.03349562972957119],\n",
       " ['d', 0.02798146301402006],\n",
       " ['e', 0.08192057253475685],\n",
       " ['f', 0.01346277937467003],\n",
       " ['g', 0.011644277585498915],\n",
       " ['h', 0.02798146301402006],\n",
       " ['i', 0.055786941983926794],\n",
       " ['j', 0.0012025576347744471],\n",
       " ['k', 0.0031090514460022293],\n",
       " ['l', 0.03120783715609785],\n",
       " ['m', 0.023083240452865608],\n",
       " ['n', 0.051475332903150116],\n",
       " ['o', 0.05892532410394791],\n",
       " ['p', 0.018654308676013375],\n",
       " ['q', 0.0006746055024344459],\n",
       " ['r', 0.05212060773156567],\n",
       " ['s', 0.05030210594239456],\n",
       " ['t', 0.06253299700827125],\n",
       " ['u', 0.018624978001994485],\n",
       " ['v', 0.009180500967912243],\n",
       " ['w', 0.008212588725288907],\n",
       " ['x', 0.0017891711151522263],\n",
       " ['y', 0.011702938933536692],\n",
       " ['z', 0.0017305097671144482],\n",
       " [' ', 0.25579280811873056]]"
      ]
     },
     "execution_count": 5,
     "metadata": {},
     "output_type": "execute_result"
    }
   ],
   "source": [
    "import string\n",
    "\n",
    "alphabet_list = string.ascii_lowercase[:26]+' '#알파벳과 공백\n",
    "freq = []\n",
    "total = sum(c.values())\n",
    "for letter in alphabet_list:\n",
    "    freq.append([letter, c[letter]/total])\n",
    "freq"
   ]
  },
  {
   "cell_type": "markdown",
   "metadata": {
    "colab_type": "text",
    "id": "cl2YxRmRRj-L"
   },
   "source": [
    "## Draw Hinton diagram of the frequency\n",
    "\n",
    "이제 출력된 빈도를 바탕으로 Hinton Diagram을 그려봅니다. "
   ]
  },
  {
   "cell_type": "code",
   "execution_count": 6,
   "metadata": {
    "colab": {},
    "colab_type": "code",
    "id": "HtKGxsaWRI_W"
   },
   "outputs": [],
   "source": [
    "import numpy as np\n",
    "import matplotlib.pyplot as plt\n",
    "\n",
    "## 기존의 hinton 출력 함수에 추가&변경\n",
    "def hinton(matrix, max_weight=None, ax=None):\n",
    "    \"\"\"Draw Hinton diagram for visualizing a weight matrix.\"\"\"\n",
    "    plt.rcParams['figure.figsize'] = [10, 10] #plot size\n",
    "    ax = ax if ax is not None else plt.gca()\n",
    "\n",
    "    if not max_weight:\n",
    "        max_weight = 2 ** np.ceil(np.log(np.abs(matrix).max()) / np.log(2))\n",
    "        \n",
    "    # McKay Figure 2.1~2.3 과 같은 그림을 임의의 Text Frequency에 대해 뽑도록 설정\n",
    "    ax.patch.set_facecolor('black') \n",
    "    ax.set_aspect('equal', 'box')\n",
    "    ax.xaxis.set_major_locator(plt.NullLocator())\n",
    "    ax.yaxis.set_major_locator(plt.NullLocator())\n",
    "    # 시각화를 위한 축 추가 1) 1-D 일 때\n",
    "    if len(matrix) == 1: \n",
    "        ax.set_yticks(range(27))\n",
    "        ax.set_yticklabels(alphabet_list[0:26]+'-') # blank -> '-'\n",
    "    else :\n",
    "        ax.set_xticks(range(27))\n",
    "        ax.set_yticks(range(27))\n",
    "        ax.set_xticklabels(alphabet_list[0:26]+'-')\n",
    "        ax.set_yticklabels(alphabet_list[0:26]+'-')\n",
    "    # grid 제거\n",
    "    ax.grid(False)\n",
    "\n",
    "    for (x, y), w in np.ndenumerate(matrix):\n",
    "        color = 'white' if w > 0 else 'black'\n",
    "        size = np.sqrt(np.abs(w) / max_weight)\n",
    "        rect = plt.Rectangle([x - size / 2, y - size / 2], size, size,\n",
    "                             facecolor=color, edgecolor=color)\n",
    "        ax.add_patch(rect)\n",
    "\n",
    "    ax.autoscale_view()\n",
    "    ax.invert_yaxis()\n",
    "\n",
    "\n"
   ]
  },
  {
   "cell_type": "markdown",
   "metadata": {
    "colab_type": "text",
    "id": "FOH4NB208xGO"
   },
   "source": [
    "###  Hinton diagram of alphabet frequency\n",
    "\n",
    "McKay교재의 그림 2.1을 보면 문자의 출현빈도를 계산하여 Hinton Diagram으로 표현하였는데, 이제 임의의 텍스트에 대해 적용하여 봅시다. 이 그림에서 각 문자의 출현 빈도(확률)가 흰색 정사각형들의 면적으로 표현된 것을 알 수 있습니다."
   ]
  },
  {
   "cell_type": "code",
   "execution_count": 7,
   "metadata": {
    "colab": {
     "base_uri": "https://localhost:8080/",
     "height": 575
    },
    "colab_type": "code",
    "id": "gSD3FRzP0_k0",
    "outputId": "0f33c5e4-4345-487e-8b03-49fda6dd7c4f"
   },
   "outputs": [
    {
     "data": {
      "image/png": "[encoded data removed]",
      "text/plain": [
       "<Figure size 720x720 with 1 Axes>"
      ]
     },
     "metadata": {},
     "output_type": "display_data"
    }
   ],
   "source": [
    "#자료를 matrix type으로 바꿔주기 \n",
    "f_mat =  np.asarray(freq)[:,1]\n",
    "l=len(f_mat)\n",
    "f_mat = f_mat.reshape(1,l).astype('float')\n",
    "#a-z & blank\n",
    "hinton(f_mat) #Mckay Fig2.1에 해당\n",
    "#plt.savefig(\"fig2_1.png\", dpi=200)"
   ]
  },
  {
   "cell_type": "markdown",
   "metadata": {
    "colab_type": "text",
    "id": "Xd7iir5fBGJB"
   },
   "source": [
    "### Hinton diagram of joint frequency\n",
    "\n",
    "McKay교재의 그림 2.2에 해당하는 그림을 출력해봅시다.  우선 인접한 두 글자씩 짝지어서 문자의 출현 빈도를 계산해야 합니다. 마찬가지로 collection의 Counter 함수를 사용합니다."
   ]
  },
  {
   "cell_type": "code",
   "execution_count": 8,
   "metadata": {
    "colab": {},
    "colab_type": "code",
    "id": "GiXaO5QzNVsd"
   },
   "outputs": [],
   "source": [
    "joint = collections.Counter(zip(text, text[1:]))\n",
    "c_adj=[]\n",
    "for (letter1,letter2), ctr in joint.items():\n",
    "   c_adj.append([letter1+letter2, ctr])\n",
    "#c_adj #연속된 문자 순서대로 출현 빈도를 계산"
   ]
  },
  {
   "cell_type": "markdown",
   "metadata": {
    "colab_type": "text",
    "id": "9rnCviFVkJR5"
   },
   "source": [
    "이제 이 계산 결과를 바탕으로 알파벳 순서대로 27x27 행렬을 구성해 볼 수 있습니다. 다음의 함수를 통해 결합 분포와 조건부 분포를 계산하여 Hinton Diagram의 input으로 변형합니다."
   ]
  },
  {
   "cell_type": "code",
   "execution_count": 9,
   "metadata": {
    "colab": {
     "base_uri": "https://localhost:8080/",
     "height": 592
    },
    "colab_type": "code",
    "id": "UCLC6gwGBGJC",
    "outputId": "78623055-c55d-4a93-d888-9a211fc3a000"
   },
   "outputs": [
    {
     "data": {
      "image/png": "[encoded data removed]",
      "text/plain": [
       "<Figure size 720x720 with 1 Axes>"
      ]
     },
     "metadata": {},
     "output_type": "display_data"
    }
   ],
   "source": [
    "### frequency matrix로 바꿔주는 함수를 하나 정의합니다.\n",
    "# cond = False 이면 joint probability 계산하고, 그렇지 않은경우: \n",
    "  ## given = 1 이면 : 첫번째 문자가 주어졌을 때 두번째 문자의 조건부 계산\n",
    "  ## given = 2 이면 : 두번째 문자가 주어졌을 때 첫번째 문자의 조건부 계산\n",
    "def freqMat(c_adj, cond = False, given = None) : \n",
    "    c_adj= np.asarray(c_adj) \n",
    "    freq_adj = []\n",
    "    \n",
    "    if cond == True: #조건부 matrix를 구하는 경우\n",
    "       given_chr = [x[given-1] for x in c_adj[:,0]] # 1 or 2 번째 문자 빈도 계산\n",
    "    else: \n",
    "       total =  sum(c_adj[:,1].astype('int'))\n",
    "        \n",
    "        \n",
    "    for letter1 in alphabet_list:\n",
    "        if given ==1 :\n",
    "            total = sum( c_adj[:,1].astype('int') * (np.array(given_chr) == letter1) ) #row sum\n",
    "            \n",
    "        for letter2 in alphabet_list:\n",
    "            if given ==2 :\n",
    "               total = sum( c_adj[:,1].astype('int') * (np.array(given_chr) == letter2) ) #col sum\n",
    "            letters = letter1 + letter2\n",
    "            is_counted = (c_adj[:,0] == letters)\n",
    "            \n",
    "            if is_counted.any(): # 한번이라도 count가 된 경우\n",
    "               # print([letters, c_adj[is_counted,1].astype('int')[0]/total])\n",
    "                freq_adj.append([letters, c_adj[is_counted,1].astype('int')[0]/total]) #해당 빈도를 입력\n",
    "            else : # 사용되지 않은 문자의 경우\n",
    "                freq_adj.append([letters, 0]) # 빈도는 0\n",
    "                \n",
    "    freq_adj = np.asarray(freq_adj)\n",
    "    freq_matrix = freq_adj[:,1].astype('float').reshape(27,27) #as matrix version\n",
    "    return freq_matrix\n",
    "###\n",
    "freq_adj_matrix = freqMat(c_adj) # 나머지 cond 와 given 에 대한 input은 디폴트를 유지\n",
    "hinton(freq_adj_matrix)\n",
    "#plt.savefig(\"fig2_2.png\", dpi=200)"
   ]
  },
  {
   "cell_type": "markdown",
   "metadata": {
    "colab_type": "text",
    "id": "lVR7AbFlpUZm"
   },
   "source": [
    "### Hinton diagram of conditional frequency\n",
    "\n",
    "마지막으로 Mckay교재의 그림2.3에서와 같이 조건부 분포를 시각화해보도록 합니다. \n",
    "인접한 문자 'xy'에 대한 조건부 확률분포를 계산하는 과정에서 다음의 식을 이용합니다.\n",
    "$$P( y |x)= \\frac{P(x,y)}{P(x)} $$\n"
   ]
  },
  {
   "cell_type": "code",
   "execution_count": 10,
   "metadata": {
    "colab": {
     "base_uri": "https://localhost:8080/",
     "height": 592
    },
    "colab_type": "code",
    "id": "jFcaKm4B6e12",
    "outputId": "c3a5f4fc-efb9-4e49-bd09-0c1082c8900c"
   },
   "outputs": [
    {
     "data": {
      "image/png": "[encoded data removed]",
      "text/plain": [
       "<Figure size 720x720 with 1 Axes>"
      ]
     },
     "metadata": {},
     "output_type": "display_data"
    }
   ],
   "source": [
    "freq_cond_matrix1 = freqMat(c_adj, cond= True, given=1) # 나머지 cond 와 given 에 대한 input은 디폴트를 유지\n",
    "hinton(freq_cond_matrix1)\n",
    "#plt.savefig(\"fig2_3a.png\", dpi=200)"
   ]
  },
  {
   "cell_type": "markdown",
   "metadata": {
    "colab_type": "text",
    "id": "j0YvrbOn8MZf"
   },
   "source": [
    "$$P( x |y)= \\frac{P(x,y)}{P(y)} $$"
   ]
  },
  {
   "cell_type": "code",
   "execution_count": 11,
   "metadata": {
    "colab": {
     "base_uri": "https://localhost:8080/",
     "height": 592
    },
    "colab_type": "code",
    "id": "0-XcXNcfpTti",
    "outputId": "475df6f1-a88f-4c0f-b940-838b22f2b99f"
   },
   "outputs": [
    {
     "data": {
      "image/png": "[encoded data removed]",
      "text/plain": [
       "<Figure size 720x720 with 1 Axes>"
      ]
     },
     "metadata": {},
     "output_type": "display_data"
    }
   ],
   "source": [
    "freq_cond_matrix2 = freqMat(c_adj, cond= True, given=2) # 나머지 cond 와 given 에 대한 input은 디폴트를 유지\n",
    "hinton(freq_cond_matrix2)\n",
    "#plt.savefig(\"fig2_3b.png\", dpi=200)"
   ]
  },
  {
   "cell_type": "markdown",
   "metadata": {
    "colab_type": "text",
    "id": "30UDfcKj8eqV"
   },
   "source": [
    "##참고자료 \n",
    " \n",
    " 1. McKay textbook\n",
    " 2. Hinton Diagram & Letter Frequency code snippets\n",
    " 3. Text source: https://www.gutenberg.org/ebooks/36036"
   ]
  },
  {
   "cell_type": "code",
   "execution_count": null,
   "metadata": {
    "colab": {},
    "colab_type": "code",
    "id": "W4IMO6_U8sY1"
   },
   "outputs": [],
   "source": []
  }
 ],
 "metadata": {
  "colab": {
   "collapsed_sections": [],
   "name": "LetterFrequency_to_HintonDiagram.ipynb",
   "provenance": [],
   "toc_visible": true,
   "version": "0.3.2"
  },
  "kernelspec": {
   "display_name": "Python 3",
   "language": "python",
   "name": "python3"
  },
  "language_info": {
   "codemirror_mode": {
    "name": "ipython",
    "version": 3
   },
   "file_extension": ".py",
   "mimetype": "text/x-python",
   "name": "python",
   "nbconvert_exporter": "python",
   "pygments_lexer": "ipython3",
   "version": "3.6.5"
  }
 },
 "nbformat": 4,
 "nbformat_minor": 2
}
